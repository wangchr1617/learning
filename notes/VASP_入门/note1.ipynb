{
 "cells": [
  {
   "cell_type": "markdown",
   "id": "3cf511a5",
   "metadata": {},
   "source": [
    "# Linux 常用命令\n",
    "\n",
    "1. ls 命令查看当前路径下的文件及文件夹，可带参数 –lrt，-al 等查看详细信息。\n",
    "例如：\n",
    "```shell\n",
    "ls –al # 查看详细信息\n",
    "ls –lrt # 查看详细信息\n",
    "```\n",
    "上述ls命令，输出结果表示：当前路径下位置，有2个文件夹（蓝色），以及另外8个文件（黑色和绿色，黑色表示是一般的文件，绿色表示是可执行文件）。这些信息，可以从查看详细信息命令 `ls –lrt` 看出，如下所示：\n",
    "<div align=\"left\">\n",
    "    <img src=\"./figures/图片1.png\" width = \"75%\" />\n",
    "</div>\n",
    "\n",
    "上述信息包括：第一列为文件属性或权限（d代表文件夹、r代表可读、w代表可写、x代表可执行），第二第三列为文件归属（都属于ouyang 用户）、第四列为文件大小、然后是生成（修改）时间，最后是文件名。\n",
    "\n",
    "---\n",
    "\n",
    "2. \n"
   ]
  },
  {
   "cell_type": "markdown",
   "id": "fe491776",
   "metadata": {},
   "source": []
  }
 ],
 "metadata": {
  "kernelspec": {
   "display_name": "Python 3 (ipykernel)",
   "language": "python",
   "name": "python3"
  },
  "language_info": {
   "codemirror_mode": {
    "name": "ipython",
    "version": 3
   },
   "file_extension": ".py",
   "mimetype": "text/x-python",
   "name": "python",
   "nbconvert_exporter": "python",
   "pygments_lexer": "ipython3",
   "version": "3.11.4"
  }
 },
 "nbformat": 4,
 "nbformat_minor": 5
}
