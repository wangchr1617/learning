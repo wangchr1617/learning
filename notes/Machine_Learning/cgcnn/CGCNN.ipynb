{
 "cells": [
  {
   "cell_type": "markdown",
   "id": "b6b413f0",
   "metadata": {},
   "source": [
    "# 晶体图卷积神经网络CGCNN"
   ]
  },
  {
   "cell_type": "code",
   "execution_count": 1,
   "id": "2bf8bc09",
   "metadata": {},
   "outputs": [],
   "source": [
    "# 导入需要的第三方库\n",
    "from __future__ import print_function, division\n",
    "import csv\n",
    "import functools\n",
    "import json\n",
    "import os\n",
    "import random\n",
    "import shutil\n",
    "import time\n",
    "import warnings\n",
    "warnings.filterwarnings('ignore')\n",
    "\n",
    "import numpy as np\n",
    "import pandas as pd\n",
    "import matplotlib.pyplot as plt\n",
    "plt.style.use('seaborn-v0_8-whitegrid')\n",
    "plt.rcParams[\"font.sans-serif\"] = [\"SimHei\"] # 解决中文字符乱码的问题\n",
    "plt.rcParams[\"axes.unicode_minus\"] = False # 正常显示负号\n",
    "\n",
    "import torch\n",
    "import torch.nn as nn\n",
    "import torch.optim as optim\n",
    "\n",
    "from IPython import display\n",
    "from sklearn import metrics\n",
    "from torch.autograd import Variable\n",
    "from torch.optim.lr_scheduler import MultiStepLR\n",
    "\n",
    "from pymatgen.core.structure import Structure\n",
    "from torch.utils.data import Dataset, DataLoader, TensorDataset\n",
    "from torch.utils.data.dataloader import default_collate\n",
    "from torch.utils.data.sampler import SubsetRandomSampler"
   ]
  },
  {
   "cell_type": "markdown",
   "id": "394a57ec",
   "metadata": {},
   "source": [
    "## 一、数据准备"
   ]
  },
  {
   "cell_type": "markdown",
   "id": "6a9794db",
   "metadata": {},
   "source": [
    "根据mp-ids-27430.csv从Materials Project数据库下载\n",
    "\n",
    "①结构文件：id.cif\n",
    "\n",
    "②属性文件：id_prop.csv\n",
    "\n",
    "到dataset目录，共获得19627个结构文件。"
   ]
  },
  {
   "cell_type": "code",
   "execution_count": 2,
   "id": "f3611286",
   "metadata": {},
   "outputs": [
    {
     "data": {
      "text/plain": [
       "['builder_meta', 'nsites', 'elements', 'nelements', 'composition']"
      ]
     },
     "execution_count": 2,
     "metadata": {},
     "output_type": "execute_result"
    }
   ],
   "source": [
    "from mp_api.client import MPRester\n",
    "from pymatgen.io.cif import CifWriter\n",
    "\n",
    "API_KEY='G4m0QEHjNGUE6vDXoa70jDErWmAI7BE4' # 本人的密匙\n",
    "mpr = MPRester(API_KEY) # 调用Materials Project数据库接口\n",
    "\"\"\"\n",
    "查看可用属性字段列表，这里只展示前5个，我们可以从中选取属性指定为target。\n",
    "除本次实验预测的形成能外，还可以预测带隙、体模量、剪切模量、费米能级、总能、泊松比等材料属性。\n",
    "\"\"\"\n",
    "list_of_available_fields = mpr.summary.available_fields\n",
    "list_of_available_fields[:5]"
   ]
  },
  {
   "cell_type": "code",
   "execution_count": null,
   "id": "5fab6620",
   "metadata": {},
   "outputs": [],
   "source": [
    "with open('./mp-ids-27430.csv') as f:\n",
    "    reader = csv.reader(f)\n",
    "    mp_ids = [row[0] for row in reader]\n",
    "for mp_id in mp_ids:\n",
    "    # 获取id_num\n",
    "    id_num = mp_id.split('-')[1]\n",
    "    try:\n",
    "        # 指定target。\n",
    "        target = mpr.summary.search(material_ids=[mp_id], fields=[\"formation_energy_per_atom\"])[0].formation_energy_per_atom\n",
    "        # 下载cif结构文件\n",
    "        structure = mpr.get_structure_by_material_id(mp_id)\n",
    "        cif_writer = CifWriter(structure)\n",
    "        cif_writer.write_file(\"./dataset/\"+id_num+\".cif\")\n",
    "    except:\n",
    "        continue\n",
    "    # 在id_prop.csv文件中输出id_num和target\n",
    "    with open('./dataset/id_prop.csv', 'a+', newline='') as f:\n",
    "        writer = csv.writer(f)\n",
    "        writer.writerows([[id_num, target]])"
   ]
  },
  {
   "cell_type": "markdown",
   "id": "d8952c62",
   "metadata": {},
   "source": [
    "## 二、模型训练"
   ]
  },
  {
   "cell_type": "markdown",
   "id": "044badb5",
   "metadata": {},
   "source": [
    "### 2.1 从cif结构文件中获取数据"
   ]
  },
  {
   "cell_type": "code",
   "execution_count": 2,
   "id": "466a1d7c",
   "metadata": {},
   "outputs": [],
   "source": [
    "class AtomInitializer(object):\n",
    "    \"\"\"初始化原子向量\"\"\"\n",
    "    def __init__(self, atom_types):\n",
    "        self.atom_types = set(atom_types)\n",
    "        self._embedding = {}\n",
    "\n",
    "    def get_atom_fea(self, atom_type):\n",
    "        assert atom_type in self.atom_types\n",
    "        return self._embedding[atom_type]\n",
    "\n",
    "    def load_state_dict(self, state_dict):\n",
    "        self._embedding = state_dict\n",
    "        self.atom_types = set(self._embedding.keys())\n",
    "        self._decodedict = {idx: atom_type for atom_type, idx in self._embedding.items()}\n",
    "\n",
    "    def state_dict(self):\n",
    "        return self._embedding\n",
    "\n",
    "    def decode(self, idx):\n",
    "        if not hasattr(self, '_decodedict'):\n",
    "            self._decodedict = {idx: atom_type for atom_type, idx in self._embedding.items()}\n",
    "        return self._decodedict[idx]\n",
    "\n",
    "class AtomCustomJSONInitializer(AtomInitializer): \n",
    "    \"\"\"\n",
    "    使用atom_init.json文件初始化原子特征向量。\n",
    "    返回一个字典，键是元素序号（从1到100），值是元素对应的初始原子向量（92维）。\n",
    "    --------------------------------------------\n",
    "    elem_embedding_file是atom_init.json文件的路径\n",
    "    \"\"\"\n",
    "    def __init__(self, elem_embedding_file):\n",
    "        with open(elem_embedding_file) as f:\n",
    "            elem_embedding = json.load(f) \n",
    "        elem_embedding = {int(key): value for key, value in elem_embedding.items()}\n",
    "        atom_types = set(elem_embedding.keys())\n",
    "        super(AtomCustomJSONInitializer, self).__init__(atom_types)\n",
    "        for key, value in elem_embedding.items():\n",
    "            self._embedding[key] = np.array(value, dtype=float)\n",
    "\n",
    "class GaussianDistance(object):\n",
    "    \"\"\"\n",
    "    使用一维高斯函数exp(-(x-μ)^2/σ^2)展开原子间距（即初始边特征向量），单位是埃（1E-10米）。\n",
    "    展开后边特征向量的维度是41维。\n",
    "    \"\"\"\n",
    "    def __init__(self, dmin, dmax, step, var=None):\n",
    "        assert dmin < dmax\n",
    "        assert dmax - dmin > step\n",
    "        self.filter = np.arange(dmin, dmax+step, step)\n",
    "        if var is None:\n",
    "            var = step\n",
    "        self.var = var\n",
    "\n",
    "    def expand(self, distances):\n",
    "        return np.exp(-(distances[..., np.newaxis] - self.filter)**2 / self.var**2)\n",
    "\n",
    "class CIFData(Dataset):\n",
    "    \"\"\"\n",
    "    CIFData是Dataset的封装，Dataset应具有以下目录结构：\n",
    "    根目录\n",
    "    ├─ id_prop.csv：csv文件，第一列记录晶体的ID，第二列记录target值。\n",
    "    ├─ atom_init.json：json文件，用于存储每个元素的初始化向量。\n",
    "    ├─ ID.cif：cif文件，记录晶体结构信息，ID与id_prop.csv唯一对应。\n",
    "    ├─ ...    \n",
    "    ----------------------------------\n",
    "    root_dir：根目录路径。\n",
    "    max_num_nbr：最大近邻原子数，默认是12。\n",
    "    radius：截止半径，默认是8埃。\n",
    "    dmin：构造GaussianDistance的最小距离，默认是0埃。\n",
    "    step：构造GaussianDistance的步长，默认是0.2埃。\n",
    "    random_seed：打乱数据集的随机数种子。\n",
    "    ----------------------------------\n",
    "    atom_fea：原子特征矩阵，默认维度是(n_i, 92)，n_i是晶胞原子数。\n",
    "    nbr_fea：边特征矩阵，默认维度是(n_i, 12, 41)。\n",
    "    nbr_fea_idx：原子近邻矩阵，默认维度是(n_i, 12)，张量的数据类型是int64。\n",
    "    target：目标属性，维度是(1, )。\n",
    "    cif_id：打乱后的晶体ID。\n",
    "    \"\"\"\n",
    "    def __init__(self, root_dir, max_num_nbr=12, radius=8, dmin=0, step=0.2, random_seed=123):\n",
    "        # 主要任务是构建路径列表和标签列表。\n",
    "        self.root_dir = root_dir\n",
    "        self.max_num_nbr, self.radius = max_num_nbr, radius\n",
    "        assert os.path.exists(root_dir), 'root_dir does not exist!'\n",
    "        id_prop_file = os.path.join(self.root_dir, 'id_prop.csv')\n",
    "        assert os.path.exists(id_prop_file), 'id_prop.csv does not exist!'\n",
    "        with open(id_prop_file) as f:\n",
    "            reader = csv.reader(f)\n",
    "            self.id_prop_data = [row for row in reader]\n",
    "        random.seed(random_seed)\n",
    "        random.shuffle(self.id_prop_data)\n",
    "        atom_init_file = os.path.join(self.root_dir, 'atom_init.json')\n",
    "        assert os.path.exists(atom_init_file), 'atom_init.json does not exist!'\n",
    "        self.ari = AtomCustomJSONInitializer(atom_init_file) # 调用AtomCustomJSONInitializer类\n",
    "        self.gdf = GaussianDistance(dmin=dmin, dmax=self.radius, step=step) # 调用GaussianDistance类\n",
    "\n",
    "    def __len__(self):\n",
    "        return len(self.id_prop_data)\n",
    "\n",
    "    @functools.lru_cache(maxsize=None)  # Cache loaded structures\n",
    "    def __getitem__(self, idx):\n",
    "        # 完成所有的预处理操作。idx是列表索引，返回模型的输入和标签。\n",
    "        cif_id, target = self.id_prop_data[idx]\n",
    "        crystal = Structure.from_file(os.path.join(self.root_dir, cif_id+'.cif'))\n",
    "        atom_fea = np.vstack([self.ari.get_atom_fea(crystal[i].specie.number) for i in range(len(crystal))])\n",
    "        atom_fea = torch.Tensor(atom_fea)\n",
    "        all_nbrs = crystal.get_all_neighbors(self.radius, include_index=True)\n",
    "        all_nbrs = [sorted(nbrs, key=lambda x: x[1]) for nbrs in all_nbrs]\n",
    "        nbr_fea_idx, nbr_fea = [], []\n",
    "        for nbr in all_nbrs:\n",
    "            if len(nbr) < self.max_num_nbr:\n",
    "                warnings.warn('{} not find enough neighbors to build graph. '\n",
    "                              'If it happens frequently, consider increase radius.'.format(cif_id))\n",
    "                nbr_fea_idx.append(list(map(lambda x: x[2], nbr)) + [0] * (self.max_num_nbr - len(nbr)))\n",
    "                nbr_fea.append(list(map(lambda x: x[1], nbr)) + [self.radius + 1.] * (self.max_num_nbr - len(nbr)))\n",
    "            else:\n",
    "                nbr_fea_idx.append(list(map(lambda x: x[2], nbr[:self.max_num_nbr])))\n",
    "                nbr_fea.append(list(map(lambda x: x[1], nbr[:self.max_num_nbr])))\n",
    "        nbr_fea_idx, nbr_fea = np.array(nbr_fea_idx), np.array(nbr_fea)\n",
    "        nbr_fea = self.gdf.expand(nbr_fea)\n",
    "        atom_fea = torch.Tensor(atom_fea)\n",
    "        nbr_fea = torch.Tensor(nbr_fea)\n",
    "        nbr_fea_idx = torch.LongTensor(nbr_fea_idx)\n",
    "        target = torch.Tensor([float(target)])\n",
    "        return (atom_fea, nbr_fea, nbr_fea_idx), target, cif_id"
   ]
  },
  {
   "cell_type": "code",
   "execution_count": 3,
   "id": "4764f15f",
   "metadata": {},
   "outputs": [],
   "source": [
    "root_dir = './dataset/'\n",
    "# root_dir = './sample-regression/' # 用于测试的小数据集，包含10条虚拟数据。\n",
    "dataset = CIFData(root_dir)"
   ]
  },
  {
   "cell_type": "markdown",
   "id": "c99fa5a0",
   "metadata": {},
   "source": [
    "### 2.2 数据展示"
   ]
  },
  {
   "cell_type": "code",
   "execution_count": 4,
   "id": "cf57acb1",
   "metadata": {},
   "outputs": [
    {
     "name": "stdout",
     "output_type": "stream",
     "text": [
      "cif_id=643829;\n",
      "n_i=28;\n",
      "target=-2.8293421268463135 eV/atom;\n",
      "atom_fea.size = [28, 92];\n",
      "nbr_fea.size = [28, 12, 41];\n",
      "nbr_fea_idx.size = [28, 12];\n"
     ]
    }
   ],
   "source": [
    "(atom_fea, nbr_fea, nbr_fea_idx), target, cif_id = dataset.__getitem__(idx=1)\n",
    "print(\"cif_id={};\\nn_i={};\\ntarget={} eV/atom;\\natom_fea.size = {};\\nnbr_fea.size = {};\\nnbr_fea_idx.size = {};\"\\\n",
    "      .format(cif_id, len(atom_fea), target.item(), list(atom_fea.shape), list(nbr_fea.shape), list(nbr_fea_idx.shape)))"
   ]
  },
  {
   "cell_type": "code",
   "execution_count": 5,
   "id": "8a8d05d9",
   "metadata": {},
   "outputs": [
    {
     "data": {
      "text/plain": [
       "Structure Summary\n",
       "Lattice\n",
       "    abc : 4.407307 7.073604999999999 9.28883328\n",
       " angles : 50.07367648999998 90.0 90.0\n",
       " volume : 222.07375342460034\n",
       "      A : 4.407307 0.0 2.698697205204862e-16\n",
       "      B : -3.3215715936308137e-16 5.42453807243594 4.539854006101734\n",
       "      C : 0.0 0.0 9.28883328\n",
       "    pbc : True True True\n",
       "PeriodicSite: Al (2.0849, 3.4765, 8.1513) [0.4731, 0.6409, 0.5643]\n",
       "PeriodicSite: Al (0.1187, 3.4765, 3.5069) [0.0269, 0.6409, 0.0643]\n",
       "PeriodicSite: Al (2.3224, 1.9480, 5.6774) [0.5269, 0.3591, 0.4357]\n",
       "PeriodicSite: Al (4.2886, 1.9480, 10.3218) [0.9731, 0.3591, 0.9357]\n",
       "PeriodicSite: Si (2.1023, 4.9167, 5.7913) [0.4770, 0.9064, 0.1805]\n",
       "PeriodicSite: Si (0.1014, 4.9167, 10.4357) [0.0230, 0.9064, 0.6805]\n",
       "PeriodicSite: Si (2.3050, 0.5078, 8.0374) [0.5230, 0.0936, 0.8195]\n",
       "PeriodicSite: Si (4.3060, 0.5078, 3.3930) [0.9770, 0.0936, 0.3195]\n",
       "PeriodicSite: H (4.2589, 3.4622, 5.8027) [0.9663, 0.6382, 0.3128]\n",
       "PeriodicSite: H (2.3521, 3.4622, 10.4471) [0.5337, 0.6382, 0.8128]\n",
       "PeriodicSite: H (0.1485, 1.9623, 8.0260) [0.0337, 0.3618, 0.6872]\n",
       "PeriodicSite: H (2.0552, 1.9623, 3.3816) [0.4663, 0.3618, 0.1872]\n",
       "PeriodicSite: O (1.3026, 0.5831, 6.5549) [0.2956, 0.1075, 0.6531]\n",
       "PeriodicSite: O (0.9010, 0.5831, 1.9104) [0.2044, 0.1075, 0.1531]\n",
       "PeriodicSite: O (3.1047, 4.8415, 7.2738) [0.7044, 0.8925, 0.3469]\n",
       "PeriodicSite: O (3.5063, 4.8415, 11.9182) [0.7956, 0.8925, 0.8469]\n",
       "PeriodicSite: O (1.3637, 4.7432, 4.1591) [0.3094, 0.8744, 0.0204]\n",
       "PeriodicSite: O (0.8399, 4.7432, 8.8035) [0.1906, 0.8744, 0.5204]\n",
       "PeriodicSite: O (3.0436, 0.6813, 9.6696) [0.6906, 0.1256, 0.9796]\n",
       "PeriodicSite: O (3.5674, 0.6813, 5.0252) [0.8094, 0.1256, 0.4796]\n",
       "PeriodicSite: O (1.3446, 3.4607, 6.3849) [0.3051, 0.6380, 0.3756]\n",
       "PeriodicSite: O (0.8590, 3.4607, 11.0293) [0.1949, 0.6380, 0.8756]\n",
       "PeriodicSite: O (3.0627, 1.9639, 7.4438) [0.6949, 0.3620, 0.6244]\n",
       "PeriodicSite: O (3.5483, 1.9639, 2.7994) [0.8051, 0.3620, 0.1244]\n",
       "PeriodicSite: O (1.3072, 2.0063, 4.0750) [0.2966, 0.3698, 0.2579]\n",
       "PeriodicSite: O (0.8964, 2.0063, 8.7194) [0.2034, 0.3698, 0.7579]\n",
       "PeriodicSite: O (3.1001, 3.4183, 9.7537) [0.7034, 0.6302, 0.7421]\n",
       "PeriodicSite: O (3.5109, 3.4183, 5.1093) [0.7966, 0.6302, 0.2421]"
      ]
     },
     "execution_count": 5,
     "metadata": {},
     "output_type": "execute_result"
    }
   ],
   "source": [
    "# 查看晶体结构信息\n",
    "crystal = Structure.from_file('{}{}.cif'.format(root_dir, cif_id))\n",
    "crystal"
   ]
  },
  {
   "cell_type": "code",
   "execution_count": 6,
   "id": "6fe98568",
   "metadata": {
    "scrolled": true
   },
   "outputs": [
    {
     "data": {
      "text/plain": [
       "[[13, 0],\n",
       " [13, 1],\n",
       " [13, 2],\n",
       " [13, 3],\n",
       " [14, 4],\n",
       " [14, 5],\n",
       " [14, 6],\n",
       " [14, 7],\n",
       " [1, 8],\n",
       " [1, 9],\n",
       " [1, 10],\n",
       " [1, 11],\n",
       " [8, 12],\n",
       " [8, 13],\n",
       " [8, 14],\n",
       " [8, 15],\n",
       " [8, 16],\n",
       " [8, 17],\n",
       " [8, 18],\n",
       " [8, 19],\n",
       " [8, 20],\n",
       " [8, 21],\n",
       " [8, 22],\n",
       " [8, 23],\n",
       " [8, 24],\n",
       " [8, 25],\n",
       " [8, 26],\n",
       " [8, 27]]"
      ]
     },
     "execution_count": 6,
     "metadata": {},
     "output_type": "execute_result"
    }
   ],
   "source": [
    "# 查看晶胞中心原子的原子序数，及其在晶胞中对应的编号\n",
    "idx = []\n",
    "for i in range(len(crystal)):\n",
    "    idx.append([crystal[i].specie.number, i])\n",
    "idx"
   ]
  },
  {
   "cell_type": "code",
   "execution_count": 7,
   "id": "25afb25b",
   "metadata": {},
   "outputs": [
    {
     "data": {
      "text/plain": [
       "array([0., 0., 0., 0., 0., 0., 0., 0., 0., 0., 0., 0., 0., 1., 0., 0., 0.,\n",
       "       0., 0., 0., 0., 1., 0., 0., 0., 0., 0., 0., 0., 1., 0., 0., 0., 0.,\n",
       "       0., 0., 0., 0., 0., 0., 1., 0., 0., 0., 0., 0., 0., 0., 1., 0., 0.,\n",
       "       0., 0., 0., 0., 0., 0., 0., 0., 0., 1., 0., 0., 0., 0., 0., 0., 0.,\n",
       "       0., 0., 0., 0., 0., 1., 0., 0., 0., 0., 0., 1., 0., 0., 0., 0., 1.,\n",
       "       0., 0., 0., 0., 0., 0., 0.])"
      ]
     },
     "execution_count": 7,
     "metadata": {},
     "output_type": "execute_result"
    }
   ],
   "source": [
    "# 编号0中心原子对应的初始原子特征向量\n",
    "AtomCustomJSONInitializer('{}atom_init.json'.format(root_dir)).get_atom_fea(crystal[0].specie.number)"
   ]
  },
  {
   "cell_type": "code",
   "execution_count": 8,
   "id": "2cd02f23",
   "metadata": {},
   "outputs": [
    {
     "data": {
      "text/plain": [
       "[17, 26, 20, 14, 22, 25, 9, 10, 4, 10, 2, 6]"
      ]
     },
     "execution_count": 8,
     "metadata": {},
     "output_type": "execute_result"
    }
   ],
   "source": [
    "# 截断半径设为8埃时，编号0中心原子的前12个最近邻原子在晶胞中对应的编号\n",
    "all_nbrs = crystal.get_all_neighbors(8, include_index=True)\n",
    "all_nbrs = [sorted(nbrs, key=lambda x: x[1]) for nbrs in all_nbrs]\n",
    "nbr = all_nbrs[0]\n",
    "nbr_fea_idx = list(map(lambda x: x[2], nbr[:12]))\n",
    "nbr_fea_idx # 与第一个中心原子相连的端点原子"
   ]
  },
  {
   "cell_type": "code",
   "execution_count": 9,
   "id": "95a1ea35",
   "metadata": {},
   "outputs": [
    {
     "data": {
      "text/plain": [
       "(12,)"
      ]
     },
     "execution_count": 9,
     "metadata": {},
     "output_type": "execute_result"
    }
   ],
   "source": [
    "# 截断半径设为8埃时，编号0中心原子与前12个最近邻原子的原子间距，即未经过GaussianDistance处理的初始边特征向量，维度是(12,)\n",
    "nbr_fea = np.array((list(map(lambda x: x[1], nbr[:12]))))\n",
    "nbr_fea.shape"
   ]
  },
  {
   "cell_type": "code",
   "execution_count": 10,
   "id": "a7a1fc6c",
   "metadata": {},
   "outputs": [
    {
     "data": {
      "text/plain": [
       "(12, 41)"
      ]
     },
     "execution_count": 10,
     "metadata": {},
     "output_type": "execute_result"
    }
   ],
   "source": [
    "# 经过GaussianDistance处理后的边特征向量，维度变为(12, 41)\n",
    "nbr_fea = GaussianDistance(dmin=0, dmax=8, step=0.2).expand(nbr_fea)\n",
    "nbr_fea.shape"
   ]
  },
  {
   "cell_type": "code",
   "execution_count": 11,
   "id": "bcccd13e",
   "metadata": {},
   "outputs": [
    {
     "data": {
      "image/png": "[encoded data removed]",
      "text/plain": [
       "<Figure size 600x400 with 1 Axes>"
      ]
     },
     "metadata": {},
     "output_type": "display_data"
    }
   ],
   "source": [
    "# 可视化GaussianDistance处理\n",
    "def g(x, u):\n",
    "    return np.exp(-np.power((x-u),2) / 0.04)\n",
    "x = np.arange(0, 8.2, 0.2)\n",
    "plt.figure(figsize=(6, 4))\n",
    "for i in range(12):\n",
    "    y = nbr_fea[i]\n",
    "    plt.plot(x, y, label=\"nbr_fea_idx = \"+str(nbr_fea_idx[i]), alpha=0.5)\n",
    "plt.xlim(0, 8)\n",
    "plt.ylim(0, 1)\n",
    "plt.tick_params(bottom=False, top=False, left=False, right=False)\n",
    "plt.legend()\n",
    "plt.show()"
   ]
  },
  {
   "cell_type": "markdown",
   "id": "c72e30a2",
   "metadata": {},
   "source": [
    "### 2.3 数据集划分"
   ]
  },
  {
   "cell_type": "markdown",
   "id": "68f6f8b2",
   "metadata": {},
   "source": [
    "对于不同的晶体结构，其晶胞原子数可能不同，同时每个中心原子考虑的最近邻原子数也可能不同，因此不能使用Dataloader默认的collate_fn函数。"
   ]
  },
  {
   "cell_type": "code",
   "execution_count": 12,
   "id": "3cb5a967",
   "metadata": {},
   "outputs": [],
   "source": [
    "def collate_pool(dataset):\n",
    "    \"\"\"\n",
    "    手动将抽取出的样本堆叠起来的函数。\n",
    "    输入是一个CIFData类，返回一个batch_size\n",
    "    \"\"\"\n",
    "    batch_atom_fea, batch_nbr_fea, batch_nbr_fea_idx, crystal_atom_idx, batch_target, batch_cif_ids = [], [], [], [], [], []\n",
    "    base_idx = 0\n",
    "    for i, ((atom_fea, nbr_fea, nbr_fea_idx), target, cif_id) in enumerate(dataset):\n",
    "        n_i = atom_fea.shape[0]\n",
    "        batch_atom_fea.append(atom_fea)\n",
    "        batch_nbr_fea.append(nbr_fea)\n",
    "        batch_nbr_fea_idx.append(nbr_fea_idx+base_idx)\n",
    "        new_idx = torch.LongTensor(np.arange(n_i)+base_idx)\n",
    "        crystal_atom_idx.append(new_idx)\n",
    "        batch_target.append(target)\n",
    "        batch_cif_ids.append(cif_id)\n",
    "        base_idx += n_i\n",
    "    return (torch.cat(batch_atom_fea, dim=0), torch.cat(batch_nbr_fea, dim=0), torch.cat(batch_nbr_fea_idx, dim=0), crystal_atom_idx), torch.stack(batch_target, dim=0), batch_cif_ids"
   ]
  },
  {
   "cell_type": "markdown",
   "id": "041e3747",
   "metadata": {},
   "source": [
    "例如将idx=1的晶体和idx=2的晶体堆叠在一起，注意堆叠时crystal_atom_idx是继承的。"
   ]
  },
  {
   "cell_type": "code",
   "execution_count": 13,
   "id": "6beed59d",
   "metadata": {},
   "outputs": [
    {
     "data": {
      "text/plain": [
       "[tensor([ 0,  1,  2,  3,  4,  5,  6,  7,  8,  9, 10, 11, 12, 13, 14, 15, 16, 17,\n",
       "         18, 19, 20, 21, 22, 23, 24, 25, 26, 27]),\n",
       " tensor([28, 29, 30, 31])]"
      ]
     },
     "execution_count": 13,
     "metadata": {},
     "output_type": "execute_result"
    }
   ],
   "source": [
    "crystal_list = [dataset.__getitem__(idx=1), dataset.__getitem__(idx=2)]\n",
    "(batch_atom_fea, batch_nbr_fea, batch_nbr_fea_idx, crystal_atom_idx), batch_target, batch_cif_ids= collate_pool(crystal_list)\n",
    "crystal_atom_idx"
   ]
  },
  {
   "cell_type": "code",
   "execution_count": null,
   "id": "7b4738dc",
   "metadata": {},
   "outputs": [],
   "source": [
    "def get_train_val_test_loader(dataset, collate_fn=default_collate, batch_size=64, train_ratio=None, val_ratio=0.1, test_ratio=0.1, return_test=False, num_workers=0, pin_memory=False):\n",
    "    \"\"\"将数据集划分为训练集、验证集和测试集的函数。\"\"\"\n",
    "    total_size = len(dataset)\n",
    "    if train_ratio is None:\n",
    "        assert val_ratio + test_ratio < 1\n",
    "        train_ratio = 1 - val_ratio - test_ratio\n",
    "        print(f'[Warning] train_ratio is None, using 1 - val_ratio - test_ratio = {train_ratio} as training data.')\n",
    "    else:\n",
    "        assert train_ratio + val_ratio + test_ratio <= 1\n",
    "    indices = list(range(total_size))\n",
    "    train_size = int(train_ratio * total_size)\n",
    "    test_size = int(test_ratio * total_size)\n",
    "    valid_size = int(val_ratio * total_size)\n",
    "    train_sampler = SubsetRandomSampler(indices[:train_size])\n",
    "    val_sampler = SubsetRandomSampler(indices[-(valid_size + test_size):-test_size])\n",
    "    train_loader = DataLoader(dataset, batch_size=batch_size, sampler=train_sampler, num_workers=num_workers, collate_fn=collate_fn, pin_memory=pin_memory)\n",
    "    val_loader = DataLoader(dataset, batch_size=batch_size, sampler=val_sampler, num_workers=num_workers, collate_fn=collate_fn, pin_memory=pin_memory)\n",
    "    if return_test:\n",
    "        test_sampler = SubsetRandomSampler(indices[-test_size:])\n",
    "        test_loader = DataLoader(dataset, batch_size=batch_size, sampler=test_sampler, num_workers=num_workers, collate_fn=collate_fn, pin_memory=pin_memory)\n",
    "        return train_loader, val_loader, test_loader\n",
    "    else:\n",
    "        return train_loader, val_loader"
   ]
  },
  {
   "cell_type": "markdown",
   "id": "bac48e25",
   "metadata": {},
   "source": [
    "### 2.4 搭建模型"
   ]
  },
  {
   "cell_type": "code",
   "execution_count": null,
   "id": "d1f493e3",
   "metadata": {},
   "outputs": [],
   "source": [
    "class ConvLayer(nn.Module):\n",
    "    \"\"\"自定义的卷积函数\"\"\"\n",
    "    def __init__(self, atom_fea_len, nbr_fea_len):\n",
    "        \"\"\"\n",
    "        atom_fea_len：原子特征向量的长度\n",
    "        nbr_fea_len：边特征向量的长度\n",
    "        \"\"\"\n",
    "        super(ConvLayer, self).__init__()\n",
    "        self.atom_fea_len = atom_fea_len\n",
    "        self.nbr_fea_len = nbr_fea_len\n",
    "        self.fc_full = nn.Linear(2*self.atom_fea_len+self.nbr_fea_len, 2*self.atom_fea_len)\n",
    "        self.sigmoid = nn.Sigmoid() # 激活函数σ\n",
    "        self.softplus1 = nn.Softplus() # 激活函数g\n",
    "        self.bn1 = nn.BatchNorm1d(2*self.atom_fea_len)\n",
    "        self.bn2 = nn.BatchNorm1d(self.atom_fea_len)\n",
    "        self.softplus2 = nn.Softplus() # 激活函数g\n",
    "\n",
    "    def forward(self, atom_in_fea, nbr_fea, nbr_fea_idx):\n",
    "        \"\"\"\n",
    "        N: batch_size个晶胞的原子数之和\n",
    "        M: 最大近邻原子数\n",
    "        atom_in_fea：所有“原子特征向量”组成的矩阵(N, atom_fea_len)\n",
    "        nbr_fea：所有“边特征向量”组成的矩阵(N, M, nbr_fea_len)\n",
    "        nbr_fea_idx：邻接矩阵(N, M)，每个元素是一个(i,j)对，表示i原子与j原子存在相互作用\n",
    "        \"\"\"\n",
    "        N, M = nbr_fea_idx.shape\n",
    "        # 所有“近邻原子特征向量”组成的矩阵(N, M, atom_fea_len)\n",
    "        atom_nbr_fea = atom_in_fea[nbr_fea_idx, :]\n",
    "        # 拼接后z_((i,j)_k)^t的维度为(N, M, atom_fea_len + atom_fea_len + nbr_fea_len)\n",
    "        total_nbr_fea = torch.cat([atom_in_fea.unsqueeze(1).expand(N, M, self.atom_fea_len), atom_nbr_fea, nbr_fea], dim=2)\n",
    "        # 全连接层，输入张量为z_((i,j)_k)^t，输出张量为z_((i,j)_k)^t W_f^t+b_f^t拼接z_((i,j)_k)^t W_s^t+b_s^t\n",
    "        total_gated_fea = self.fc_full(total_nbr_fea)\n",
    "        # 将z_((i,j)_k)^t W_f^t+b_f^t拼接z_((i,j)_k)^t W_s^t+b_s^t变形为(N*M, atom_fea_len*2)后批量归一化\n",
    "        # 然后再变形为原来的形状(N, M, atom_fea_len*2)\n",
    "        total_gated_fea = self.bn1(total_gated_fea.view(-1, self.atom_fea_len*2)).view(N, M, self.atom_fea_len*2)\n",
    "        # 分割后nbr_filter, nbr_core的维度都是(N, M, atom_fea_len)\n",
    "        nbr_filter, nbr_core = total_gated_fea.chunk(2, dim=2)\n",
    "        nbr_filter = self.sigmoid(nbr_filter) # nbr_filter使用sigmoid激活函数处理\n",
    "        nbr_core = self.softplus1(nbr_core) # nbr_core使用softplus激活函数处理\n",
    "        # nbr_filter和nbr_core求和后再批量归一化\n",
    "        nbr_sumed = torch.sum(nbr_filter * nbr_core, dim=1)\n",
    "        nbr_sumed = self.bn2(nbr_sumed)\n",
    "        # 返回卷积后的原子特征向量，维度是(N, atom_fea_len)\n",
    "        out = self.softplus2(atom_in_fea + nbr_sumed)\n",
    "        return out\n",
    "\n",
    "    \n",
    "class CrystalGraphConvNet(nn.Module):\n",
    "    \"\"\"搭建晶体图卷积神经网络\"\"\"\n",
    "    def __init__(self, orig_atom_fea_len, nbr_fea_len, atom_fea_len=64, n_conv=3, h_fea_len=128, n_h=1):\n",
    "        \"\"\"\n",
    "        orig_atom_fea_len：输入的原子特征向量的长度\n",
    "        nbr_fea_len：边特征向量的长度\n",
    "        atom_fea_len: 卷积层输入的原子特征向量的长度\n",
    "        n_conv：卷积层数\n",
    "        h_fea_len：池化后原子特征向量的长度\n",
    "        n_h：池化后的隐藏层数\n",
    "        \"\"\"\n",
    "        super(CrystalGraphConvNet, self).__init__()\n",
    "        self.embedding = nn.Linear(orig_atom_fea_len, atom_fea_len) # 原子嵌入，固定初始原子特征向量的长度为atom_fea_len\n",
    "        # 执行n_conv层卷积，默认是3层\n",
    "        self.convs = nn.ModuleList([ConvLayer(atom_fea_len=atom_fea_len, nbr_fea_len=nbr_fea_len) for _ in range(n_conv)])\n",
    "        # 池化层\n",
    "        self.conv_to_fc = nn.Linear(atom_fea_len, h_fea_len)\n",
    "        self.conv_to_fc_softplus = nn.Softplus()\n",
    "        # 全连接隐藏层\n",
    "        if n_h > 1:\n",
    "            self.fcs = nn.ModuleList([nn.Linear(h_fea_len, h_fea_len) for _ in range(n_h-1)])\n",
    "            self.softpluses = nn.ModuleList([nn.Softplus() for _ in range(n_h-1)])\n",
    "        # 输出层\n",
    "        self.fc_out = nn.Linear(h_fea_len, 1)\n",
    "\n",
    "    def forward(self, atom_fea, nbr_fea, nbr_fea_idx, crystal_atom_idx):\n",
    "        \"\"\"前向传播\"\"\"\n",
    "        atom_fea = self.embedding(atom_fea)\n",
    "        for conv_func in self.convs:\n",
    "            atom_fea = conv_func(atom_fea, nbr_fea, nbr_fea_idx)\n",
    "        crys_fea = self.pooling(atom_fea, crystal_atom_idx)\n",
    "        crys_fea = self.conv_to_fc(self.conv_to_fc_softplus(crys_fea))\n",
    "        crys_fea = self.conv_to_fc_softplus(crys_fea)\n",
    "        if hasattr(self, 'fcs') and hasattr(self, 'softpluses'):\n",
    "            for fc, softplus in zip(self.fcs, self.softpluses):\n",
    "                crys_fea = softplus(fc(crys_fea))\n",
    "        out = self.fc_out(crys_fea)\n",
    "        return out\n",
    "\n",
    "    def pooling(self, atom_fea, crystal_atom_idx):\n",
    "        \"\"\"将原子特征矩阵降维为每个晶体的原子特征\"\"\"\n",
    "        assert sum([len(idx_map) for idx_map in crystal_atom_idx]) == atom_fea.data.shape[0]\n",
    "        summed_fea = [torch.mean(atom_fea[idx_map], dim=0, keepdim=True) for idx_map in crystal_atom_idx]\n",
    "        return torch.cat(summed_fea, dim=0)"
   ]
  },
  {
   "cell_type": "code",
   "execution_count": null,
   "id": "f34ebb9e",
   "metadata": {},
   "outputs": [],
   "source": [
    "class Normalizer(object):\n",
    "    def __init__(self, tensor):\n",
    "        self.mean = torch.mean(tensor)\n",
    "        self.std = torch.std(tensor)\n",
    "    def norm(self, tensor):\n",
    "        return (tensor - self.mean) / self.std\n",
    "    def denorm(self, normed_tensor):\n",
    "        return normed_tensor * self.std + self.mean\n",
    "    def state_dict(self):\n",
    "        return {'mean': self.mean,\n",
    "                'std': self.std}\n",
    "    def load_state_dict(self, state_dict):\n",
    "        self.mean = state_dict['mean']\n",
    "        self.std = state_dict['std']        \n",
    "        \n",
    "def mae(prediction, target):\n",
    "    \"\"\"平均绝对误差\"\"\"\n",
    "    return torch.mean(torch.abs(target - prediction))\n",
    "\n",
    "def class_eval(prediction, target):\n",
    "    prediction = np.exp(prediction.numpy())\n",
    "    target = target.numpy()\n",
    "    pred_label = np.argmax(prediction, axis=1)\n",
    "    target_label = np.squeeze(target)\n",
    "    if not target_label.shape:\n",
    "        target_label = np.asarray([target_label])\n",
    "    if prediction.shape[1] == 2:\n",
    "        precision, recall, fscore, _ = metrics.precision_recall_fscore_support(target_label, pred_label, average='binary')\n",
    "        auc_score = metrics.roc_auc_score(target_label, prediction[:, 1])\n",
    "        accuracy = metrics.accuracy_score(target_label, pred_label)\n",
    "    else:\n",
    "        raise NotImplementedError\n",
    "    return accuracy, precision, recall, fscore, auc_score\n",
    "\n",
    "class AverageMeter(object):\n",
    "    \"\"\"计算平均值和当前值并存储\"\"\"\n",
    "    def __init__(self):\n",
    "        self.reset()\n",
    "    def reset(self):\n",
    "        self.val = 0\n",
    "        self.avg = 0\n",
    "        self.sum = 0\n",
    "        self.count = 0\n",
    "    def update(self, val, n=1):\n",
    "        self.val = val\n",
    "        self.sum += val * n\n",
    "        self.count += n\n",
    "        self.avg = self.sum / self.count\n",
    "        \n",
    "def adjust_learning_rate(optimizer, epoch, k):\n",
    "    \"\"\"每经过k个epoch调整学习率为原来的0.1\"\"\"\n",
    "    assert type(k) is int\n",
    "    lr = 0.01 * (0.1 ** (epoch // k))\n",
    "    for param_group in optimizer.param_groups:\n",
    "        param_group['lr'] = lr\n",
    "\n",
    "def train(train_loader, model, criterion, optimizer, epoch, normalizer):\n",
    "    \"\"\"训练模式\"\"\"\n",
    "    batch_time = AverageMeter()\n",
    "    data_time = AverageMeter()\n",
    "    losses = AverageMeter()\n",
    "    mae_errors = AverageMeter()\n",
    "    model.train()\n",
    "    end = time.time()\n",
    "    for i, (input, target, _) in enumerate(train_loader):\n",
    "        data_time.update(time.time() - end)\n",
    "        input_var = (Variable(input[0]), Variable(input[1]), input[2], input[3])\n",
    "        target_normed = normalizer.norm(target)\n",
    "        target_var = Variable(target_normed)\n",
    "        output = model(*input_var)\n",
    "        loss = criterion(output, target_var)\n",
    "        mae_error = mae(normalizer.denorm(output.data.cpu()), target)\n",
    "        losses.update(loss.data.cpu(), target.size(0))\n",
    "        mae_errors.update(mae_error, target.size(0))\n",
    "        optimizer.zero_grad()\n",
    "        loss.backward()\n",
    "        optimizer.step()\n",
    "        batch_time.update(time.time() - end)\n",
    "        end = time.time()\n",
    "        if i % 10 == 0:\n",
    "            lines = 'Epoch: [{0}][{1}/{2}]\\tTime {batch_time.val:.3f} ({batch_time.avg:.3f})\\tData {data_time.val:.3f} ({data_time.avg:.3f})\\tLoss {loss.val:.4f} ({loss.avg:.4f})\\tMAE {mae_errors.val:.3f} ({mae_errors.avg:.3f})'.format(epoch, i, len(train_loader), batch_time=batch_time, data_time=data_time, loss=losses, mae_errors=mae_errors)\n",
    "            print(lines)\n",
    "            with open(\"./train_detail.txt\", 'a+') as f:\n",
    "                f.write(lines)\n",
    "        return losses.avg, mae_errors.avg\n",
    "                                \n",
    "def validate(val_loader, model, criterion, normalizer, test=False):\n",
    "    \"\"\"验证（或测试）模式\"\"\"\n",
    "    batch_time = AverageMeter()\n",
    "    losses = AverageMeter()\n",
    "    mae_errors = AverageMeter()\n",
    "    if test:\n",
    "        test_targets = []\n",
    "        test_preds = []\n",
    "        test_cif_ids = []\n",
    "    model.eval()\n",
    "    end = time.time()\n",
    "    for i, (input, target, batch_cif_ids) in enumerate(val_loader):\n",
    "        with torch.no_grad():\n",
    "            input_var = (Variable(input[0]), Variable(input[1]), input[2], input[3])\n",
    "        target_normed = normalizer.norm(target)\n",
    "        with torch.no_grad():\n",
    "            target_var = Variable(target_normed)\n",
    "        output = model(*input_var)\n",
    "        loss = criterion(output, target_var)\n",
    "        mae_error = mae(normalizer.denorm(output.data.cpu()), target)\n",
    "        losses.update(loss.data.cpu().item(), target.size(0))\n",
    "        mae_errors.update(mae_error, target.size(0))\n",
    "        if test:\n",
    "            test_pred = normalizer.denorm(output.data.cpu())\n",
    "            test_target = target\n",
    "            test_preds += test_pred.view(-1).tolist()\n",
    "            test_targets += test_target.view(-1).tolist()\n",
    "            test_cif_ids += batch_cif_ids\n",
    "        batch_time.update(time.time() - end)\n",
    "        end = time.time()\n",
    "        if i % 10 == 0:\n",
    "            lines = 'Test: [{0}/{1}]\\tTime {batch_time.val:.3f} ({batch_time.avg:.3f})\\tLoss {loss.val:.4f} ({loss.avg:.4f})\\tMAE {mae_errors.val:.3f} ({mae_errors.avg:.3f})'.format(i, len(val_loader), batch_time=batch_time, loss=losses, mae_errors=mae_errors)\n",
    "            print(lines)\n",
    "            if test:\n",
    "                with open(\"./test_detail.txt\", 'a+') as f:\n",
    "                    f.write(lines)\n",
    "            else:\n",
    "                with open(\"./val_detail.txt\", 'a+') as f:\n",
    "                    f.write(lines)\n",
    "    if test:\n",
    "        star_label = '**'\n",
    "        with open('test_results.csv', 'w') as f:\n",
    "            writer = csv.writer(f)\n",
    "            for cif_id, target, pred in zip(test_cif_ids, test_targets, test_preds):\n",
    "                writer.writerow((cif_id, target, pred))\n",
    "    else:\n",
    "        star_label = '*'\n",
    "    print(' {star} MAE {mae_errors.avg:.3f}'.format(star=star_label, mae_errors=mae_errors))\n",
    "    return mae_errors.avg\n"
   ]
  },
  {
   "cell_type": "markdown",
   "id": "041a31b2",
   "metadata": {},
   "source": [
    "### 2.5 存储模型并可视化训练过程"
   ]
  },
  {
   "cell_type": "code",
   "execution_count": null,
   "id": "2689fa46",
   "metadata": {},
   "outputs": [],
   "source": [
    " def save_checkpoint(state, is_best, filename='checkpoint.pth.tar'):\n",
    "    \"\"\"储存最后一次训练得到的模型和最优模型\"\"\"\n",
    "    torch.save(state, filename)\n",
    "    if is_best:\n",
    "        shutil.copyfile(filename, 'model_best.pth.tar')\n",
    "        \n",
    "def set_axes(axes, xlabel, ylabel, xlim, ylim, xscale, yscale, legend):\n",
    "    axes.set_xlabel(xlabel)\n",
    "    axes.set_ylabel(ylabel)\n",
    "    axes.set_xscale(xscale)\n",
    "    axes.set_yscale(yscale)\n",
    "    axes.set_xlim(xlim)\n",
    "    axes.set_ylim(ylim)\n",
    "    if legend:\n",
    "        axes.legend(legend)\n",
    "    axes.grid()\n",
    "\n",
    "class Animator: \n",
    "    def __init__(self, xlabel=None, ylabel=None, legend=None, xlim=None,\n",
    "                 ylim=None, xscale='linear', yscale='linear',\n",
    "                 fmts=('-', 'm--', 'g-.', 'r:'), nrows=1, ncols=1,\n",
    "                 figsize=(8, 6)):\n",
    "        if legend is None:\n",
    "            legend = []\n",
    "        display.set_matplotlib_formats('svg')\n",
    "        self.fig, self.axes = plt.subplots(nrows, ncols, figsize=figsize)\n",
    "        if nrows * ncols == 1:\n",
    "            self.axes = [self.axes, ]\n",
    "        self.config_axes = lambda: set_axes(self.axes[0], xlabel, ylabel, xlim, ylim, xscale, yscale, legend)\n",
    "        self.X, self.Y, self.fmts = None, None, fmts\n",
    "\n",
    "    def add(self, x, y):\n",
    "        if not hasattr(y, \"__len__\"):\n",
    "            y = [y]\n",
    "        n = len(y)\n",
    "        if not hasattr(x, \"__len__\"):\n",
    "            x = [x] * n\n",
    "        if not self.X:\n",
    "            self.X = [[] for _ in range(n)]\n",
    "        if not self.Y:\n",
    "            self.Y = [[] for _ in range(n)]\n",
    "        for i, (a, b) in enumerate(zip(x, y)):\n",
    "            if a is not None and b is not None:\n",
    "                self.X[i].append(a)\n",
    "                self.Y[i].append(b)\n",
    "        self.axes[0].cla()\n",
    "        for x, y, fmt in zip(self.X, self.Y, self.fmts):\n",
    "            self.axes[0].plot(x, y, fmt)\n",
    "        self.config_axes()\n",
    "        display.display(self.fig)\n",
    "        display.clear_output(wait=True)"
   ]
  },
  {
   "cell_type": "markdown",
   "id": "f263c514",
   "metadata": {},
   "source": [
    "### 2.6 训练并测试模型"
   ]
  },
  {
   "cell_type": "code",
   "execution_count": null,
   "id": "6a7ebfdc",
   "metadata": {},
   "outputs": [],
   "source": [
    "def main():\n",
    "    global best_mae_error\n",
    "    # 初始模型设置\n",
    "    best_mae_error = 1e10\n",
    "    opt = 'Adam'\n",
    "    # 加载数据\n",
    "    dataset = CIFData(root_dir)\n",
    "    collate_fn = collate_pool\n",
    "    train_loader, val_loader, test_loader = get_train_val_test_loader(dataset=dataset, collate_fn = collate_fn, batch_size=256, val_ratio=0.1, test_ratio=0.1, return_test=True)\n",
    "    # 获取归一化后的标签\n",
    "    if len(dataset) < 500:\n",
    "        warnings.warn('Dataset has less than 500 data points. '\n",
    "                      'Lower accuracy is expected. ')\n",
    "        sample_data_list = [dataset[i] for i in range(len(dataset))]\n",
    "    else:\n",
    "        sample_data_list = [dataset[i] for i in random.sample(range(len(dataset)), 500)]\n",
    "    _, sample_target, _ = collate_pool(sample_data_list)\n",
    "    normalizer = Normalizer(sample_target)\n",
    "    # 搭建模型\n",
    "    structures, _, _ = dataset[0]\n",
    "    orig_atom_fea_len = structures[0].shape[-1]\n",
    "    nbr_fea_len = structures[1].shape[-1]\n",
    "    model = CrystalGraphConvNet(orig_atom_fea_len, nbr_fea_len, atom_fea_len=64, n_conv=3, h_fea_len=128, n_h=1)\n",
    "    # 定义损失函数和优化器\n",
    "    criterion = nn.MSELoss()\n",
    "    if opt == 'SGD':\n",
    "        optimizer = optim.SGD(model.parameters(), 0.01, momentum=0.9, weight_decay=0)\n",
    "    elif opt == 'Adam':\n",
    "        optimizer = optim.Adam(model.parameters(), 0.01, weight_decay=0)\n",
    "    else:\n",
    "        raise NameError('Only SGD or Adam is allowed as --optim')\n",
    "    scheduler = MultiStepLR(optimizer, milestones=[100], gamma=0.1)\n",
    "    animator = Animator(xlabel='epoch', xlim=[1, 120], legend=['train loss', 'train mae', 'test mae'])\n",
    "    for epoch in range(0, 120):\n",
    "        # 训练一个epoch\n",
    "        train_metrics = train(train_loader, model, criterion, optimizer, epoch, normalizer)\n",
    "        # 在验证集上评估模型\n",
    "        mae_error = validate(val_loader, model, criterion, normalizer)\n",
    "        animator.add(epoch + 1, train_metrics + (mae_error,))\n",
    "        if mae_error != mae_error:\n",
    "            print('Exit due to NaN')\n",
    "            sys.exit(1)\n",
    "        scheduler.step()\n",
    "        # 记录best mae_eror并存储checkpoint\n",
    "        is_best = mae_error < best_mae_error\n",
    "        best_mae_error = min(mae_error, best_mae_error)\n",
    "        save_checkpoint({\n",
    "            'epoch': epoch + 1,\n",
    "            'state_dict': model.state_dict(),\n",
    "            'best_mae_error': best_mae_error,\n",
    "            'optimizer': optimizer.state_dict(),\n",
    "            'normalizer': normalizer.state_dict()\n",
    "        }, is_best)\n",
    "    # 测试最优模型\n",
    "    print('---------Evaluate Model on Test Set---------------')\n",
    "    best_checkpoint = torch.load('model_best.pth.tar')\n",
    "    model.load_state_dict(best_checkpoint['state_dict'])\n",
    "    validate(test_loader, model, criterion, normalizer, test=True)"
   ]
  },
  {
   "cell_type": "code",
   "execution_count": null,
   "id": "df2d920e",
   "metadata": {},
   "outputs": [],
   "source": [
    "main() "
   ]
  },
  {
   "cell_type": "markdown",
   "id": "7fca249d",
   "metadata": {},
   "source": [
    "## 三、可视化"
   ]
  },
  {
   "cell_type": "code",
   "execution_count": null,
   "id": "5ec79d89",
   "metadata": {},
   "outputs": [],
   "source": [
    "with open('./test_results.csv') as f:\n",
    "    reader = csv.reader(f)\n",
    "    actual_values = []\n",
    "    predicted_values = []\n",
    "    for row in reader:\n",
    "        if row != []:\n",
    "            actual_values.append(eval(row[1]))\n",
    "            predicted_values.append(eval(row[2])) \n",
    "plt.figure(figsize=(6, 4))\n",
    "x = actual_values\n",
    "y = predicted_values\n",
    "z = list(map(lambda x: np.abs(x[0]-x[1]), zip(x, y)))\n",
    "plt.scatter(x, y, c=z, cmap=plt.cm.Blues_r, alpha=0.2)\n",
    "\n",
    "t = np.linspace(-5,1,100)\n",
    "plt.plot(t, t, color='k', linestyle='--', alpha=0.5)\n",
    "\n",
    "plt.xlabel(\"Calculated Values\")\n",
    "plt.xlim(-5, 1)\n",
    "plt.xticks(np.arange(-5, 2, 1))\n",
    "plt.ylabel(\"Predicted Values\")\n",
    "plt.ylim(-5, 1)\n",
    "plt.yticks(np.arange(-5, 2, 1))\n",
    "plt.tick_params(bottom=False, top=False, left=False, right=False)\n",
    "\n",
    "plt.title(\"Calculated vs. Predicted Values\")\n",
    "plt.tight_layout()\n",
    "plt.savefig('./adam.png')"
   ]
  }
 ],
 "metadata": {
  "kernelspec": {
   "display_name": "Python 3 (ipykernel)",
   "language": "python",
   "name": "python3"
  },
  "language_info": {
   "codemirror_mode": {
    "name": "ipython",
    "version": 3
   },
   "file_extension": ".py",
   "mimetype": "text/x-python",
   "name": "python",
   "nbconvert_exporter": "python",
   "pygments_lexer": "ipython3",
   "version": "3.10.11"
  }
 },
 "nbformat": 4,
 "nbformat_minor": 5
}
