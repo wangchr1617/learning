{
 "cells": [
  {
   "cell_type": "markdown",
   "id": "6ef010a5-e631-4cfe-bdee-874b51db00ed",
   "metadata": {},
   "source": [
    "# SOAP_similarity_kernal"
   ]
  },
  {
   "cell_type": "code",
   "execution_count": null,
   "id": "584e9b9e-08e6-41ab-a5be-b363cd3e8832",
   "metadata": {},
   "outputs": [],
   "source": [
    "from dscribe.descriptors import SOAP\n",
    "species = [\"Ge\", \"Te\"]\n",
    "r_cut = 3.0\n",
    "sigma = 0.3\n",
    "n_max = 8\n",
    "l_max = 8\n",
    "soap = SOAP(species=species, r_cut=r_cut, sigma=sigma, n_max=n_max, l_max=l_max)\n",
    "soap.get_number_of_features()"
   ]
  },
  {
   "cell_type": "code",
   "execution_count": null,
   "id": "a14d4ac9-40d7-491d-86b1-878b23a61989",
   "metadata": {},
   "outputs": [],
   "source": [
    "from ase.io import read\n",
    "import numpy as np\n",
    "\n",
    "xyz_files = read(\"../NEP_Order_parameter/split_movie_files/split_100.xyz\", index=':')\n",
    "soap_vectors = []\n",
    "for atoms in xyz_files:\n",
    "    Ge_indices = [atom.index for atom in atoms if atom.symbol == 'Ge']\n",
    "    soap_vector = soap.create(atoms, centers=Ge_indices)\n",
    "    soap_vector_avg = np.mean(soap_vector, axis=0)\n",
    "    soap_vectors.append(soap_vector_avg)\n",
    "\n",
    "p_j = np.mean(soap_vectors, axis=0).reshape(1, -1)\n",
    "p_j_norm = p_j / np.linalg.norm(p_j)"
   ]
  },
  {
   "cell_type": "code",
   "execution_count": null,
   "id": "56a14c14-9808-4796-9887-bec908fcf486",
   "metadata": {},
   "outputs": [],
   "source": [
    "from ase.io import read\n",
    "import matplotlib.pyplot as plt\n",
    "import numpy as np\n",
    "import scienceplots\n",
    "plt.style.use(['science','ieee','no-latex','bright'])\n",
    "\n",
    "def _plot(ax, filename, p_j_norm, label):\n",
    "    xyz_files = read(filename, index='::100')\n",
    "    kj_list = []\n",
    "    for atoms in xyz_files:\n",
    "        Ge_indices = [atom.index for atom in atoms if atom.symbol == 'Ge']\n",
    "        for i in Ge_indices:\n",
    "            p_i = soap.create(atoms, centers=[i])\n",
    "            p_i_norm = p_i / np.linalg.norm(p_i)\n",
    "            k_j = np.dot(p_i_norm, p_j_norm.T) ** 2\n",
    "            kj_list.append(k_j[0][0])\n",
    "\n",
    "    bins = np.linspace(0, 1, 1001)\n",
    "    hist, bin_edges = np.histogram(kj_list, bins=bins)\n",
    "    bin_centers = (bin_edges[:-1] + bin_edges[1:]) / 2\n",
    "    plt.plot(bin_centers, hist, linestyle='-', label=label)\n",
    "\n",
    "plt.figure(figsize=(4, 3))\n",
    "ax1 = plt.gca()\n",
    "_plot(ax1, \"../NEP_Order_parameter/split_movie_files/split_300.xyz\", p_j_norm, label=\"300K\")\n",
    "_plot(ax1, \"../NEP_Order_parameter/split_movie_files/split_800.xyz\", p_j_norm, label=\"800K\")\n",
    "plt.xlabel(r'$k_j$ Value')\n",
    "plt.ylabel('Distribution')\n",
    "plt.xlim(0.8, 1)\n",
    "plt.ylim(0, None)\n",
    "plt.yticks([])\n",
    "plt.legend()\n",
    "plt.show()"
   ]
  }
 ],
 "metadata": {
  "kernelspec": {
   "display_name": "Python 3 (ipykernel)",
   "language": "python",
   "name": "python3"
  },
  "language_info": {
   "codemirror_mode": {
    "name": "ipython",
    "version": 3
   },
   "file_extension": ".py",
   "mimetype": "text/x-python",
   "name": "python",
   "nbconvert_exporter": "python",
   "pygments_lexer": "ipython3",
   "version": "3.9.20"
  }
 },
 "nbformat": 4,
 "nbformat_minor": 5
}
