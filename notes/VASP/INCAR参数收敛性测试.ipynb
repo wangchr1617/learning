{
 "cells": [
  {
   "cell_type": "markdown",
   "id": "23ad81b4-7e6c-4962-ac94-d70d93ef4cd1",
   "metadata": {},
   "source": [
    "# INCAR 参数收敛性测试"
   ]
  },
  {
   "cell_type": "code",
   "execution_count": 1,
   "id": "70d43b9b-260d-4a1b-8c7d-5ca03aea65f8",
   "metadata": {},
   "outputs": [],
   "source": [
    "import matplotlib.pyplot as plt\n",
    "import numpy as np\n",
    "import os\n",
    "import re\n",
    "import shutil"
   ]
  },
  {
   "cell_type": "code",
   "execution_count": 2,
   "id": "0d474a74-1899-421e-89b1-9a227d6f0fb0",
   "metadata": {},
   "outputs": [],
   "source": [
    "root_path = \"./example/INCAR参数收敛性测试\"\n",
    "para_list = [200, 250, 300, 350, 400, 450, 500, 550, 600]"
   ]
  },
  {
   "cell_type": "markdown",
   "id": "e8337b50-533a-4794-ae9a-78d583f2d592",
   "metadata": {},
   "source": [
    "## 前处理"
   ]
  },
  {
   "cell_type": "markdown",
   "id": "f5d5c85a-3da4-47ef-b37e-c82fec3fe2b5",
   "metadata": {},
   "source": [
    "参数选取的问题是阻拦初学者入门理论模拟计算的最大难题。INCAR 参数的收敛性测试能帮助我们在保证计算精度的同时还可以大幅度节约计算资源。一般需要测试的参数为 ENCUT 和 KSPACING。下面以GeTe为例说明如何自动测试 ENCUT 参数。测试用的 POSCAR 和 POTCAR 文件放在 `./example/INCAR参数收敛性测试` 路径下。使用下面的代码创建作业文件夹，并使用 `qsub batchrunvasp.pbs` 提交作业。"
   ]
  },
  {
   "cell_type": "code",
   "execution_count": null,
   "id": "fb4ea029-36f1-43e4-8e6a-f49b90145e7f",
   "metadata": {},
   "outputs": [],
   "source": [
    "def link_or_copy(filename, root_path):\n",
    "    \"\"\"\n",
    "    尝试在子目录中为文件创建硬链接，如果失败则复制文件。\n",
    "    \"\"\"\n",
    "    subdirs = [os.path.join(root_path, d) for d in os.listdir(root_path) if os.path.isdir(os.path.join(root_path, d))]\n",
    "    src = os.path.join(root_path, filename)    \n",
    "    for subdir in subdirs:\n",
    "        dest = os.path.join(subdir, filename)\n",
    "        try:\n",
    "            os.link(src, dest)  # 尝试创建硬链接\n",
    "        except OSError as e:\n",
    "            shutil.copy(src, dest)  # 如果失败，复制文件"
   ]
  },
  {
   "cell_type": "code",
   "execution_count": null,
   "id": "9cccaed8-0fc2-4835-b84b-274dafef8eb8",
   "metadata": {},
   "outputs": [],
   "source": [
    "os.makedirs(root_path, exist_ok=True)\n",
    "for para in para_list:\n",
    "    folder_path = os.path.join(root_path, str(para))\n",
    "    os.makedirs(folder_path, exist_ok=True)\n",
    "    lines = [\n",
    "        \"SYSTEM = GT\",\n",
    "        \"NCORE = 8\",\n",
    "        \"ISTART = 0\",\n",
    "        \"ICHARG = 2\",\n",
    "        \"LCHARG = .F.\",\n",
    "        \"LWAVE = .F.\",\n",
    "        \"KSPACING = 0.1\",\n",
    "        \"KGAMMA = .T.\",\n",
    "        \"ALGO = Fast\",\n",
    "        \"NELM = 120\",\n",
    "        \"NELMIN = 4\",\n",
    "        \"EDIFF = 1E-07\",\n",
    "        \"IBRION = -1\",\n",
    "        \"NSW = 0\",\n",
    "        \"EDIFFG = -1E-03\",\n",
    "        f\"ENCUT = {para}\",\n",
    "        \"ISMEAR = 0\",\n",
    "        \"SIGMA = 0.05\",\n",
    "        \"PREC = A\",\n",
    "        \"LREAL = F\",\n",
    "        \"ADDGRID = .T.\"\n",
    "    ]\n",
    "    with open(os.path.join(folder_path, 'INCAR'), 'w') as f:\n",
    "        for line in lines:\n",
    "            f.write(line + '\\n')\n",
    "            \n",
    "link_or_copy(\"POSCAR\", root_path)\n",
    "link_or_copy(\"POTCAR\", root_path)\n",
    "\n",
    "pbs_script = \"\"\"#PBS -N static\n",
    "#PBS -l nodes=1:ppn=24\n",
    "#PBS -l walltime=600:00:00\n",
    "#PBS -q batch\n",
    "#PBS -V\n",
    "#PBS -S /bin/bash\n",
    "\n",
    "source /opt/intel/compilers_and_libraries_2018/linux/bin/compilervars.sh intel64\n",
    "source /opt/intel/mkl/bin/mklvars.sh intel64\n",
    "source /opt/intel/impi/2018.1.163/bin64/mpivars.sh\n",
    "\n",
    "NP=`cat $PBS_NODEFILE | wc -l`\n",
    "NN=`cat $PBS_NODEFILE | sort | uniq | tee /tmp/nodes.$$ | wc -l`\n",
    "\n",
    "cat $PBS_NODEFILE > /tmp/nodefile.$$\n",
    "cd $PBS_O_WORKDIR\n",
    "ulimit -s unlimited\n",
    "\n",
    "# EXEC=/opt/software/vasp/vasp6.4.0/bin/vasp_gam\n",
    "EXEC=/opt/software/vasp/vasp6.4.0/bin/vasp_std\n",
    "\n",
    "for i in */\n",
    "do\n",
    "  if [ -e $i/vasprun.xml ]\n",
    "  then\n",
    "    echo 'skip ' $i >> ./tmp\n",
    "  else\n",
    "    cd $i\n",
    "    mpirun -machinefile $PBS_NODEFILE -np $NP $EXEC > output\n",
    "    time=`grep Elapsed OUTCAR`\n",
    "    out=`tail -n 1 OUTCAR`\n",
    "    echo $i >> ../tmp\n",
    "    echo $time >> ../tmp\n",
    "    echo $out >> ../tmp\n",
    "    cd ..\n",
    "  fi\n",
    "done\n",
    "\"\"\"\n",
    "with open(os.path.join(root_path, 'batchrunvasp.pbs'), \"w\") as f:\n",
    "    f.write(pbs_script)"
   ]
  },
  {
   "cell_type": "markdown",
   "id": "9722aa32-7455-49c7-beb5-cfc36c4bab9a",
   "metadata": {},
   "source": [
    "计算完成后，使用 `check.sh` 查看计算任务是否均收敛。`check.sh` 脚本内容如下所示：\n",
    "\n",
    "```shell\n",
    "# Usage: ./check.sh\n",
    "rm -rf ./tmp\n",
    "ntot=0\n",
    "nfinished=0\n",
    "for i in */\n",
    "do\n",
    "    ((ntot++))\n",
    "    echo '-------------------' >> ./tmp\n",
    "    if [ -e \"${i}OSZICAR\" ]; then\n",
    "        ((nfinished++))\n",
    "        step=$(grep \"=\" \"${i}OSZICAR\" | tail -1)\n",
    "        conv=$(grep \":\" \"${i}OSZICAR\" | tail -1 | awk '{print $2,$4}')\n",
    "        gprra=$(grep \"required\" \"${i}OUTCAR\")\n",
    "        echo \"$i\" \"$step\" >> ./tmp\n",
    "        echo \"$i\" \"$conv\" >> ./tmp\n",
    "        echo \"$i\" \"$gprra\" >> ./tmp\n",
    "    else\n",
    "        echo \"$i\" '! ! !' >> ./tmp\n",
    "    fi\n",
    "done\n",
    "echo \"Total directories: $ntot\"\n",
    "echo \"Unfinished directories: $((ntot - nfinished))\"\n",
    "```\n",
    "\n",
    "当所有任务均收敛，即可进行数据后处理。"
   ]
  },
  {
   "cell_type": "markdown",
   "id": "c2bd60e9-76eb-40f2-90f4-d1f184008e29",
   "metadata": {},
   "source": [
    "## 后处理"
   ]
  },
  {
   "cell_type": "markdown",
   "id": "7902b5ab-5c13-41a9-997f-bbc576a7d63f",
   "metadata": {},
   "source": [
    "首先使用 python 提取不同任务输出的能量和计算时长。"
   ]
  },
  {
   "cell_type": "code",
   "execution_count": 3,
   "id": "c60cee5f-b4b2-4f2a-8517-881166f24e99",
   "metadata": {},
   "outputs": [],
   "source": [
    "def extract_elapsed_time(filepath):\n",
    "    \"\"\"提取 OUTCAR 中的计算时长 (Elapsed)。\"\"\"\n",
    "    with open(filepath, 'r') as f:\n",
    "        for line in f:\n",
    "            if \"Elapsed\" in line:\n",
    "                elapsed_time = line.strip().split()[-1]\n",
    "                return float(elapsed_time)\n",
    "    return None\n",
    "\n",
    "def extract_total_energy(filepath):\n",
    "    \"\"\"提取 OSZICAR 中的总能 (最后一次迭代的能量)。\"\"\"\n",
    "    with open(filepath, 'r') as f:\n",
    "        lines = f.readlines()\n",
    "    for line in reversed(lines):\n",
    "        if \":\" in line:\n",
    "            return float(line.split()[2])  # 提取能量\n",
    "    return None\n",
    "\n",
    "def extract_num_atoms(filepath):\n",
    "    \"\"\"提取 POSCAR 中的原子总数 (第 7 行的所有元素和)。\"\"\"\n",
    "    with open(filepath, 'r') as f:\n",
    "        line = f.readlines()[6].strip()\n",
    "    return sum(int(x) for x in line.split())"
   ]
  },
  {
   "cell_type": "code",
   "execution_count": 4,
   "id": "2d1d0dfb-620e-45f5-bd86-951dd182284f",
   "metadata": {},
   "outputs": [
    {
     "data": {
      "image/png": "[encoded data removed]",
      "text/plain": [
       "<Figure size 640x480 with 2 Axes>"
      ]
     },
     "metadata": {},
     "output_type": "display_data"
    }
   ],
   "source": [
    "subdirs = [os.path.join(root_path, d) for d in os.listdir(root_path) if os.path.isdir(os.path.join(root_path, d))]\n",
    "time_list = []\n",
    "energy_list = []\n",
    "for subdir in subdirs:\n",
    "    elapsed_time = extract_elapsed_time(os.path.join(subdir, \"OUTCAR\"))\n",
    "    total_energy = extract_total_energy(os.path.join(subdir, \"OSZICAR\"))\n",
    "    num_atoms = extract_num_atoms(os.path.join(subdir, \"POSCAR\"))\n",
    "    time_list.append(elapsed_time)\n",
    "    energy_list.append(total_energy / num_atoms)\n",
    "\n",
    "x = np.array(para_list)\n",
    "y1 = np.array(energy_list)\n",
    "y2 = np.array(time_list)\n",
    "\n",
    "fig, ax1 = plt.subplots()\n",
    "color1 = 'tab:blue'\n",
    "ax1.set_xlabel('ENCUT')\n",
    "ax1.set_ylabel('Energy per atom (eV/at.)', color=color1)\n",
    "line1 = ax1.plot(x, y1, color=color1, marker='o', label='energy')\n",
    "ax1.tick_params(axis='y', labelcolor=color1)\n",
    "\n",
    "ax2 = ax1.twinx()\n",
    "color2 = 'tab:red'\n",
    "ax2.set_ylabel('time (s)', color=color2)\n",
    "line2 = ax2.plot(x, y2, color=color2, marker='s', linestyle='--', label='time')\n",
    "ax2.tick_params(axis='y', labelcolor=color1)\n",
    "\n",
    "# lines = line1 + line2\n",
    "# labels = [l.get_label() for l in lines]\n",
    "# ax1.legend(lines, labels, loc='best')\n",
    "\n",
    "plt.tight_layout()\n",
    "plt.savefig('./para_test.png', bbox_inches='tight')"
   ]
  },
  {
   "cell_type": "markdown",
   "id": "fac37f95-655e-44bb-be8a-98508c69e87f",
   "metadata": {},
   "source": [
    "一般当体系中每个原子的能量差收敛至 `0.001 eV/atom` 时，对应的 ENCUT 参数即为最终取值。写一个简单的 python 代码即可输出最终的 ENCUT 取值：\n",
    "\n",
    "```python\n",
    "for i in range(1, len(energy_list)):\n",
    "    delta = energy_list[i] - energy_list[i-1]\n",
    "    print(f\"{para_list[i]}: {delta}\")\n",
    "    if np.abs(delta) < 0.001:\n",
    "        break\n",
    "```\n",
    "\n",
    "结果显示，对于 GeTe 体系 ENCUT 取 300 eV 即可。"
   ]
  },
  {
   "cell_type": "markdown",
   "id": "45348f74-3ac4-4962-a90e-5e756874c598",
   "metadata": {},
   "source": [
    "## 其它"
   ]
  },
  {
   "cell_type": "markdown",
   "id": "1dd4b0ff-3932-4027-b824-7904366bf18a",
   "metadata": {},
   "source": [
    "ENCUT 测试通常从 ENMAX 开始测试，一般截止到 1.5*ENMAX 即可（注意：使用命令 `grep ENMAX POTCAR` 查看 ENMAX，ENCUT 小于 ENMAX 时可能会得到错误的能量）。\n",
    "\n",
    "KSPACING 测试通常从 0.3（大致对应 VASPKIT 中的 0.05）开始测试，一般截止到 0.05（大致对应 VASPKIT 中的 0.01）即可。KSPACING 的单位是 $Å^{-1}$，VASPKIT 中的 KPT-Resolved Value 的单位是 $2π*Å^{-1}$。 \n",
    "\n",
    "下面提一些注意事项：\n",
    "1. 超胞与晶胞具有几乎相同的收敛趋势和原子平均能，然而在相同参数设置下扩胞后的计算耗时远远超过了扩胞前，所以参数收敛性测试用晶胞即可。晶胞测得的参数可直接应用在超胞上。\n",
    "2. 随着 ENCUT 的增加，计算时间并没有像 KSPACING 增加那样呈指数上升，其上升趋势较为平缓。所以一般先测试 KSPACING，然后保持 KSPACING 不变，再测试 ENCUT。在测试 KSPACING 的时候，ENCUT 不妨取大一些。\n",
    "3. 除了 ENCUT 和 KSPACING，一般还需要测试 ISMEAR、SIGMA 以及并行参数如 NCORE、KPAR 等。另外，选用不同泛函优化得到的晶格常数会不一样，所以泛函也需要测试。"
   ]
  }
 ],
 "metadata": {
  "kernelspec": {
   "display_name": "Python 3 (ipykernel)",
   "language": "python",
   "name": "python3"
  },
  "language_info": {
   "codemirror_mode": {
    "name": "ipython",
    "version": 3
   },
   "file_extension": ".py",
   "mimetype": "text/x-python",
   "name": "python",
   "nbconvert_exporter": "python",
   "pygments_lexer": "ipython3",
   "version": "3.9.20"
  }
 },
 "nbformat": 4,
 "nbformat_minor": 5
}
